{
 "cells": [
  {
   "cell_type": "markdown",
   "metadata": {},
   "source": [
    "# Setup"
   ]
  },
  {
   "cell_type": "code",
   "execution_count": null,
   "metadata": {},
   "outputs": [],
   "source": [
    "def double_delayed(x):\n",
    "    import time\n",
    "    # simulate a function that takes a bit of time\n",
    "    time.sleep(1)\n",
    "    return x * 2"
   ]
  },
  {
   "cell_type": "markdown",
   "metadata": {},
   "source": [
    "# Existing Model"
   ]
  },
  {
   "cell_type": "code",
   "execution_count": null,
   "metadata": {},
   "outputs": [],
   "source": [
    "import time\n",
    "from funcx.sdk.client import FuncXClient\n",
    "from funcx.utils.errors import TaskPending\n",
    "from double_delayed import double_delayed\n",
    "\n",
    "fxc = FuncXClient()\n",
    "\n",
    "# tutorial endpoint\n",
    "ep_id = '4b116d3c-1703-4f8f-9f6f-39921e5864df'\n",
    "func_id = fxc.register_function(double_delayed)\n",
    "\n",
    "x = 50\n",
    "task_id = fxc.run(x, endpoint_id=ep_id, function_id=func_id)\n",
    "\n",
    "while True:\n",
    "    try:\n",
    "        # HTTP task query\n",
    "        result = fxc.get_result(task_id)\n",
    "        print(result)\n",
    "        break\n",
    "    except TaskPending:\n",
    "        # task is still pending, continue waiting\n",
    "        print('Task pending')\n",
    "    time.sleep(1)"
   ]
  },
  {
   "cell_type": "markdown",
   "metadata": {},
   "source": [
    "# Async Example"
   ]
  },
  {
   "cell_type": "code",
   "execution_count": null,
   "metadata": {},
   "outputs": [],
   "source": [
    "from funcx.sdk.client import FuncXClient\n",
    "from double_delayed import double_delayed\n",
    "\n",
    "fxc = FuncXClient(asynchronous=True)\n",
    "# tutorial endpoint\n",
    "ep_id = '4b116d3c-1703-4f8f-9f6f-39921e5864df'\n",
    "func_id = fxc.register_function(double_delayed)\n",
    "\n",
    "async def task():\n",
    "    x = 50\n",
    "    result = await fxc.run(x, endpoint_id=ep_id, function_id=func_id)\n",
    "    print(result)\n",
    "\n",
    "await task()"
   ]
  },
  {
   "cell_type": "markdown",
   "metadata": {},
   "source": [
    "# Executor Example"
   ]
  },
  {
   "cell_type": "code",
   "execution_count": null,
   "metadata": {},
   "outputs": [],
   "source": [
    "from funcx import FuncXClient\n",
    "from funcx.sdk.executor import FuncXExecutor\n",
    "from double_delayed import double_delayed\n",
    "\n",
    "fxc = FuncXClient()\n",
    "fx = FuncXExecutor(fxc)\n",
    "\n",
    "# tutorial endpoint\n",
    "ep_id = '4b116d3c-1703-4f8f-9f6f-39921e5864df'\n",
    "\n",
    "x = 50\n",
    "future = fx.submit(double_delayed, x, endpoint_id=ep_id)\n",
    "result = future.result()\n",
    "print(result)"
   ]
  },
  {
   "cell_type": "markdown",
   "metadata": {},
   "source": [
    "# Executor Batch Example"
   ]
  },
  {
   "cell_type": "code",
   "execution_count": null,
   "metadata": {},
   "outputs": [],
   "source": [
    "import random\n",
    "import timeit\n",
    "from funcx import FuncXClient\n",
    "from funcx.sdk.executor import FuncXExecutor\n",
    "from double_delayed import double_delayed\n",
    "\n",
    "fxc = FuncXClient()\n",
    "fx = FuncXExecutor(fxc, batch_enabled=False, batch_interval=1.0)\n",
    "\n",
    "# tutorial endpoint (switch to your own endpoint to run much faster)\n",
    "ep_id = '4b116d3c-1703-4f8f-9f6f-39921e5864df'\n",
    "\n",
    "def run():\n",
    "    futures = []\n",
    "    for _ in range(50):\n",
    "        x = random.randint(0, 100)\n",
    "        future = fx.submit(double_delayed, x, endpoint_id=ep_id)\n",
    "        futures.append(future)\n",
    "\n",
    "    for future in futures:\n",
    "        result = future.result()\n",
    "        print(f'Result: {result}')\n",
    "\n",
    "t = timeit.timeit(run, number=1)\n",
    "print(f'Time: {round(t, 2)}s')"
   ]
  }
 ],
 "metadata": {
  "kernelspec": {
   "display_name": "Python 3",
   "language": "python",
   "name": "python3"
  },
  "language_info": {
   "codemirror_mode": {
    "name": "ipython",
    "version": 3
   },
   "file_extension": ".py",
   "mimetype": "text/x-python",
   "name": "python",
   "nbconvert_exporter": "python",
   "pygments_lexer": "ipython3",
   "version": "3.7.5"
  }
 },
 "nbformat": 4,
 "nbformat_minor": 4
}
